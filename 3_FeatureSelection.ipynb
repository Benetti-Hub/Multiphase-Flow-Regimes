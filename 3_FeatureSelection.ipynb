{
 "cells": [
  {
   "cell_type": "markdown",
   "metadata": {},
   "source": [
    "# Feature Selection Methods\n",
    "\n",
    "This notebook is dedicated to performing feature selection using the best model found during autoML. The following approaches are considered:\n",
    "   - SelectKBest: will use ANOVA to keep only the most relevant features\n",
    "   - SequentialForwardSelection: will greedily build an estimator from an empty subset of features\n",
    "    \n",
    "The first method is a filtering method, meaning that it does not consider interactions between variables. while fast, this family of methods does not guarantee the generation of the most performing feature subset. Sequential Forward Floating Selection on the other hand is a wrapper method, that will consider interaction between the features, but it is very slow when the number of features is significant."
   ]
  },
  {
   "cell_type": "code",
   "execution_count": 1,
   "metadata": {},
   "outputs": [],
   "source": [
    "#For development\n",
    "#Reload the library when a change is detected in one of the imported libraries\n",
    "%load_ext autoreload \n",
    "%autoreload 2"
   ]
  },
  {
   "cell_type": "code",
   "execution_count": 2,
   "metadata": {},
   "outputs": [],
   "source": [
    "import numpy as np\n",
    "import pandas as pd"
   ]
  },
  {
   "cell_type": "code",
   "execution_count": 3,
   "metadata": {},
   "outputs": [],
   "source": [
    "from src import feature_selection as fs"
   ]
  },
  {
   "cell_type": "markdown",
   "metadata": {},
   "source": [
    "# Setting up\n",
    "\n",
    "Load the gold dataframe (the one read to be ingested by the machine learning algorithms, where missing values are removed)."
   ]
  },
  {
   "cell_type": "code",
   "execution_count": 4,
   "metadata": {},
   "outputs": [
    {
     "data": {
      "text/html": [
       "<div>\n",
       "<style scoped>\n",
       "    .dataframe tbody tr th:only-of-type {\n",
       "        vertical-align: middle;\n",
       "    }\n",
       "\n",
       "    .dataframe tbody tr th {\n",
       "        vertical-align: top;\n",
       "    }\n",
       "\n",
       "    .dataframe thead th {\n",
       "        text-align: right;\n",
       "    }\n",
       "</style>\n",
       "<table border=\"1\" class=\"dataframe\">\n",
       "  <thead>\n",
       "    <tr style=\"text-align: right;\">\n",
       "      <th></th>\n",
       "      <th>Ang</th>\n",
       "      <th>ReL</th>\n",
       "      <th>ReG</th>\n",
       "      <th>FrL</th>\n",
       "      <th>FrG</th>\n",
       "      <th>NL</th>\n",
       "      <th>X_LM</th>\n",
       "      <th>X_LM_2</th>\n",
       "      <th>Y</th>\n",
       "      <th>We</th>\n",
       "      <th>Eo</th>\n",
       "      <th>HU</th>\n",
       "      <th>K_G</th>\n",
       "      <th>T_TB</th>\n",
       "      <th>Flow_label</th>\n",
       "    </tr>\n",
       "  </thead>\n",
       "  <tbody>\n",
       "    <tr>\n",
       "      <th>0</th>\n",
       "      <td>70.0</td>\n",
       "      <td>24466.450000</td>\n",
       "      <td>4732.370333</td>\n",
       "      <td>1.977684</td>\n",
       "      <td>0.167038</td>\n",
       "      <td>0.067433</td>\n",
       "      <td>9.536429</td>\n",
       "      <td>90.943470</td>\n",
       "      <td>9396.899099</td>\n",
       "      <td>342.061243</td>\n",
       "      <td>87.456055</td>\n",
       "      <td>0.855173</td>\n",
       "      <td>26.127659</td>\n",
       "      <td>0.009094</td>\n",
       "      <td>2</td>\n",
       "    </tr>\n",
       "    <tr>\n",
       "      <th>1</th>\n",
       "      <td>15.0</td>\n",
       "      <td>41756.000000</td>\n",
       "      <td>771.757367</td>\n",
       "      <td>3.375242</td>\n",
       "      <td>0.027241</td>\n",
       "      <td>0.108119</td>\n",
       "      <td>27.565536</td>\n",
       "      <td>759.858750</td>\n",
       "      <td>8411.876527</td>\n",
       "      <td>996.322021</td>\n",
       "      <td>87.456055</td>\n",
       "      <td>0.855671</td>\n",
       "      <td>5.566427</td>\n",
       "      <td>0.023380</td>\n",
       "      <td>2</td>\n",
       "    </tr>\n",
       "    <tr>\n",
       "      <th>2</th>\n",
       "      <td>-1.0</td>\n",
       "      <td>40000.000000</td>\n",
       "      <td>31.466667</td>\n",
       "      <td>3.233300</td>\n",
       "      <td>0.001111</td>\n",
       "      <td>0.104080</td>\n",
       "      <td>131.415812</td>\n",
       "      <td>17270.115534</td>\n",
       "      <td>-13911.758220</td>\n",
       "      <td>914.285714</td>\n",
       "      <td>87.456055</td>\n",
       "      <td>0.869445</td>\n",
       "      <td>0.222135</td>\n",
       "      <td>0.021665</td>\n",
       "      <td>1</td>\n",
       "    </tr>\n",
       "    <tr>\n",
       "      <th>3</th>\n",
       "      <td>0.0</td>\n",
       "      <td>1967.834702</td>\n",
       "      <td>9344.647280</td>\n",
       "      <td>1.237211</td>\n",
       "      <td>0.121114</td>\n",
       "      <td>0.111560</td>\n",
       "      <td>23.916428</td>\n",
       "      <td>571.995542</td>\n",
       "      <td>0.000000</td>\n",
       "      <td>267.242284</td>\n",
       "      <td>174.589416</td>\n",
       "      <td>0.705758</td>\n",
       "      <td>5.372648</td>\n",
       "      <td>0.024891</td>\n",
       "      <td>2</td>\n",
       "    </tr>\n",
       "    <tr>\n",
       "      <th>4</th>\n",
       "      <td>0.0</td>\n",
       "      <td>3847.587937</td>\n",
       "      <td>438975.247408</td>\n",
       "      <td>0.394137</td>\n",
       "      <td>1.052936</td>\n",
       "      <td>0.017198</td>\n",
       "      <td>0.648012</td>\n",
       "      <td>0.419920</td>\n",
       "      <td>0.000000</td>\n",
       "      <td>235.178898</td>\n",
       "      <td>1513.924625</td>\n",
       "      <td>0.150659</td>\n",
       "      <td>65.312469</td>\n",
       "      <td>0.000592</td>\n",
       "      <td>0</td>\n",
       "    </tr>\n",
       "  </tbody>\n",
       "</table>\n",
       "</div>"
      ],
      "text/plain": [
       "    Ang           ReL            ReG       FrL       FrG        NL  \\\n",
       "0  70.0  24466.450000    4732.370333  1.977684  0.167038  0.067433   \n",
       "1  15.0  41756.000000     771.757367  3.375242  0.027241  0.108119   \n",
       "2  -1.0  40000.000000      31.466667  3.233300  0.001111  0.104080   \n",
       "3   0.0   1967.834702    9344.647280  1.237211  0.121114  0.111560   \n",
       "4   0.0   3847.587937  438975.247408  0.394137  1.052936  0.017198   \n",
       "\n",
       "         X_LM        X_LM_2             Y          We           Eo        HU  \\\n",
       "0    9.536429     90.943470   9396.899099  342.061243    87.456055  0.855173   \n",
       "1   27.565536    759.858750   8411.876527  996.322021    87.456055  0.855671   \n",
       "2  131.415812  17270.115534 -13911.758220  914.285714    87.456055  0.869445   \n",
       "3   23.916428    571.995542      0.000000  267.242284   174.589416  0.705758   \n",
       "4    0.648012      0.419920      0.000000  235.178898  1513.924625  0.150659   \n",
       "\n",
       "         K_G      T_TB  Flow_label  \n",
       "0  26.127659  0.009094           2  \n",
       "1   5.566427  0.023380           2  \n",
       "2   0.222135  0.021665           1  \n",
       "3   5.372648  0.024891           2  \n",
       "4  65.312469  0.000592           0  "
      ]
     },
     "execution_count": 4,
     "metadata": {},
     "output_type": "execute_result"
    }
   ],
   "source": [
    "df = pd.read_csv('Data/Train_gold.csv')\n",
    "df.head()"
   ]
  },
  {
   "cell_type": "code",
   "execution_count": 5,
   "metadata": {},
   "outputs": [],
   "source": [
    "target = 'Flow_label'\n",
    "features = df.columns.drop(target)"
   ]
  },
  {
   "cell_type": "markdown",
   "metadata": {},
   "source": [
    "Split features from labels"
   ]
  },
  {
   "cell_type": "code",
   "execution_count": 6,
   "metadata": {},
   "outputs": [],
   "source": [
    "X, y = df[features], df[target].values.ravel()"
   ]
  },
  {
   "cell_type": "markdown",
   "metadata": {},
   "source": [
    "# Univariate Feature Selection\n",
    "The next statistical test is actually to select the best K perfomring features. This is done using the ANOVA test for the variables in the dataframe. Note that using this type of filter does not guarantee generating a list of the best meaningfull variables, since the interactions are not taken into account. Nonetheless is a good test to perform. For the time being we select 80% of the features, of course this is a choice dicated by a random number I had in mind when creating this notebook."
   ]
  },
  {
   "cell_type": "code",
   "execution_count": 7,
   "metadata": {},
   "outputs": [],
   "source": [
    "from sklearn.feature_selection import SelectKBest\n",
    "from sklearn.feature_selection import f_classif, mutual_info_classif"
   ]
  },
  {
   "cell_type": "code",
   "execution_count": 8,
   "metadata": {},
   "outputs": [
    {
     "data": {
      "text/plain": [
       "SelectKBest(k=11)"
      ]
     },
     "execution_count": 8,
     "metadata": {},
     "output_type": "execute_result"
    }
   ],
   "source": [
    "feat_to_keep = round(0.8*len(X.columns))\n",
    "univariate_model = SelectKBest(score_func=f_classif, k=feat_to_keep)\n",
    "univariate_model.fit(X, y)"
   ]
  },
  {
   "cell_type": "markdown",
   "metadata": {},
   "source": [
    "## Plot the ANOVA Feature Importance\n",
    "Once we have determined the best performing features, the next step is to actually plot their importance"
   ]
  },
  {
   "cell_type": "code",
   "execution_count": 9,
   "metadata": {},
   "outputs": [],
   "source": [
    "X.columns = [r'$\\theta$', r'$Re_{L}$', r'$Re_{G}$', \n",
    "             r'$Fr_{L}$', r'$Fr_{G}$', r'$N_{L}$', \n",
    "             r'$X_{LM}$', r'$X_{LM}^2$', r'$Y$', \n",
    "             r'$We$', r'$Eo$', r'$\\alpha_{L}$', \n",
    "             r'$K_{G}$', r'$T_{TB}$']"
   ]
  },
  {
   "cell_type": "code",
   "execution_count": 10,
   "metadata": {},
   "outputs": [
    {
     "data": {
      "image/png": "[encoded data removed]",
      "text/plain": [
       "<Figure size 2520x720 with 1 Axes>"
      ]
     },
     "metadata": {
      "needs_background": "light"
     },
     "output_type": "display_data"
    }
   ],
   "source": [
    "model = f_classif(X, y)\n",
    "ANOVA_data = {'Features': X.columns, 'F_score': model[0]}\n",
    "imp_f_classif = pd.DataFrame(ANOVA_data).sort_values(by='F_score', ascending=False)\n",
    "fs.plot_ANOVA(imp_f_classif)"
   ]
  },
  {
   "cell_type": "markdown",
   "metadata": {},
   "source": [
    "## Step Forward Feature Selection\n",
    "Here we perfrom the step forward feature selection. This technique will use a greedy strategy to build the best performing model. Note that every feature kept will never be discarded in future steps unless the floating method is set to true."
   ]
  },
  {
   "cell_type": "code",
   "execution_count": 11,
   "metadata": {},
   "outputs": [],
   "source": [
    "from mlxtend.feature_selection import SequentialFeatureSelector as SFS\n",
    "from imblearn.over_sampling import SMOTE\n",
    "\n",
    "import lightgbm as lgbm"
   ]
  },
  {
   "cell_type": "code",
   "execution_count": 12,
   "metadata": {},
   "outputs": [],
   "source": [
    "estimator = lgbm.LGBMClassifier()\n",
    "sfs=SFS(estimator, k_features=6, forward=True, \n",
    "        floating=True, scoring='balanced_accuracy', \n",
    "        verbose=0, cv=5, n_jobs=-1)"
   ]
  },
  {
   "cell_type": "code",
   "execution_count": 13,
   "metadata": {},
   "outputs": [
    {
     "data": {
      "text/plain": [
       "SequentialFeatureSelector(estimator=LGBMClassifier(), floating=True,\n",
       "                          k_features=6, n_jobs=-1, scoring='balanced_accuracy')"
      ]
     },
     "execution_count": 13,
     "metadata": {},
     "output_type": "execute_result"
    }
   ],
   "source": [
    "sfs.fit(X, y)"
   ]
  },
  {
   "cell_type": "code",
   "execution_count": 14,
   "metadata": {},
   "outputs": [],
   "source": [
    "info_di = sfs.get_metric_dict()\n",
    "l = [list(info_di[x]['feature_names']) for x in info_di.keys()]\n",
    "scores = fs.generate_SFFSinfo(X, y, l, balance_method=SMOTE())"
   ]
  },
  {
   "cell_type": "code",
   "execution_count": 15,
   "metadata": {},
   "outputs": [
    {
     "data": {
      "image/png": "[encoded data removed]",
      "text/plain": [
       "<Figure size 576x432 with 1 Axes>"
      ]
     },
     "metadata": {
      "needs_background": "light"
     },
     "output_type": "display_data"
    }
   ],
   "source": [
    "fs.plot_SFFS(scores)"
   ]
  },
  {
   "cell_type": "code",
   "execution_count": null,
   "metadata": {},
   "outputs": [],
   "source": []
  },
  {
   "cell_type": "code",
   "execution_count": null,
   "metadata": {},
   "outputs": [],
   "source": []
  }
 ],
 "metadata": {
  "kernelspec": {
   "display_name": "Python 3",
   "language": "python",
   "name": "python3"
  },
  "language_info": {
   "codemirror_mode": {
    "name": "ipython",
    "version": 3
   },
   "file_extension": ".py",
   "mimetype": "text/x-python",
   "name": "python",
   "nbconvert_exporter": "python",
   "pygments_lexer": "ipython3",
   "version": "3.8.5"
  }
 },
 "nbformat": 4,
 "nbformat_minor": 4
}
