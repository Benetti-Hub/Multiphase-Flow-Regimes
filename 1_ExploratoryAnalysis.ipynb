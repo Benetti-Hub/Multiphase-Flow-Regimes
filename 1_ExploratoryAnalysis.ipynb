{
 "cells": [
  {
   "cell_type": "markdown",
   "metadata": {},
   "source": [
    "# Exploratory Data Analysis\n",
    "\n",
    "This Notebook is dedicated to performing the data analysis of the variables that describe the dataset. This notebook will perform data exploration, as well feature engineering using the known physics related to the problem at hand."
   ]
  },
  {
   "cell_type": "code",
   "execution_count": null,
   "metadata": {},
   "outputs": [],
   "source": [
    "#For development\n",
    "#Reload the library when a change is detected in one of the imported libraries\n",
    "%load_ext autoreload\n",
    "%autoreload 2"
   ]
  },
  {
   "cell_type": "code",
   "execution_count": 2,
   "metadata": {},
   "outputs": [],
   "source": [
    "import pandas as pd\n",
    "import numpy as np\n",
    "\n",
    "from sklearn.model_selection import StratifiedKFold\n",
    "from sklearn.utils import shuffle\n",
    "\n",
    "import matplotlib.pyplot as plt"
   ]
  },
  {
   "cell_type": "code",
   "execution_count": 3,
   "metadata": {},
   "outputs": [],
   "source": [
    "#Custom utils file\n",
    "from src import feature_engineering as fe"
   ]
  },
  {
   "cell_type": "code",
   "execution_count": 4,
   "metadata": {},
   "outputs": [],
   "source": [
    "#Load the RAW dataset\n",
    "df_b = pd.read_csv('Data/Dataset.csv')"
   ]
  },
  {
   "cell_type": "code",
   "execution_count": 5,
   "metadata": {},
   "outputs": [
    {
     "data": {
      "text/html": [
       "<div>\n",
       "<style scoped>\n",
       "    .dataframe tbody tr th:only-of-type {\n",
       "        vertical-align: middle;\n",
       "    }\n",
       "\n",
       "    .dataframe tbody tr th {\n",
       "        vertical-align: top;\n",
       "    }\n",
       "\n",
       "    .dataframe thead th {\n",
       "        text-align: right;\n",
       "    }\n",
       "</style>\n",
       "<table border=\"1\" class=\"dataframe\">\n",
       "  <thead>\n",
       "    <tr style=\"text-align: right;\">\n",
       "      <th></th>\n",
       "      <th>Author</th>\n",
       "      <th>P</th>\n",
       "      <th>T</th>\n",
       "      <th>Type of liquid</th>\n",
       "      <th>Type of Gas</th>\n",
       "      <th>DenL</th>\n",
       "      <th>DenG</th>\n",
       "      <th>VisL</th>\n",
       "      <th>VisG</th>\n",
       "      <th>ST</th>\n",
       "      <th>ID</th>\n",
       "      <th>Roughness</th>\n",
       "      <th>Ang</th>\n",
       "      <th>L/D</th>\n",
       "      <th>Vsl</th>\n",
       "      <th>Vsg</th>\n",
       "      <th>Flow_label</th>\n",
       "    </tr>\n",
       "  </thead>\n",
       "  <tbody>\n",
       "    <tr>\n",
       "      <th>0</th>\n",
       "      <td>1982_Ovad</td>\n",
       "      <td>100.0</td>\n",
       "      <td>25.0</td>\n",
       "      <td>Water</td>\n",
       "      <td>Air</td>\n",
       "      <td>1000.0</td>\n",
       "      <td>1.18</td>\n",
       "      <td>0.001000</td>\n",
       "      <td>0.000015</td>\n",
       "      <td>0.070</td>\n",
       "      <td>0.0250</td>\n",
       "      <td>0</td>\n",
       "      <td>70.0</td>\n",
       "      <td>NaN</td>\n",
       "      <td>0.978658</td>\n",
       "      <td>2.406290</td>\n",
       "      <td>I</td>\n",
       "    </tr>\n",
       "    <tr>\n",
       "      <th>1</th>\n",
       "      <td>2007_Omeb</td>\n",
       "      <td>9000.0</td>\n",
       "      <td>30.0</td>\n",
       "      <td>Naphtha</td>\n",
       "      <td>Nitrogen</td>\n",
       "      <td>700.5</td>\n",
       "      <td>103.00</td>\n",
       "      <td>0.000325</td>\n",
       "      <td>0.000019</td>\n",
       "      <td>0.013</td>\n",
       "      <td>0.1890</td>\n",
       "      <td>0</td>\n",
       "      <td>90.0</td>\n",
       "      <td>275.1</td>\n",
       "      <td>0.653456</td>\n",
       "      <td>6.111210</td>\n",
       "      <td>A</td>\n",
       "    </tr>\n",
       "    <tr>\n",
       "      <th>2</th>\n",
       "      <td>1982_Ovad</td>\n",
       "      <td>100.0</td>\n",
       "      <td>25.0</td>\n",
       "      <td>Water</td>\n",
       "      <td>Air</td>\n",
       "      <td>1000.0</td>\n",
       "      <td>1.18</td>\n",
       "      <td>0.001000</td>\n",
       "      <td>0.000015</td>\n",
       "      <td>0.070</td>\n",
       "      <td>0.0250</td>\n",
       "      <td>0</td>\n",
       "      <td>15.0</td>\n",
       "      <td>NaN</td>\n",
       "      <td>1.670240</td>\n",
       "      <td>0.392419</td>\n",
       "      <td>I</td>\n",
       "    </tr>\n",
       "    <tr>\n",
       "      <th>3</th>\n",
       "      <td>1982_Ovad</td>\n",
       "      <td>100.0</td>\n",
       "      <td>25.0</td>\n",
       "      <td>Water</td>\n",
       "      <td>Air</td>\n",
       "      <td>1000.0</td>\n",
       "      <td>1.18</td>\n",
       "      <td>0.001000</td>\n",
       "      <td>0.000015</td>\n",
       "      <td>0.070</td>\n",
       "      <td>0.0250</td>\n",
       "      <td>0</td>\n",
       "      <td>-1.0</td>\n",
       "      <td>NaN</td>\n",
       "      <td>1.600000</td>\n",
       "      <td>0.016000</td>\n",
       "      <td>DB</td>\n",
       "    </tr>\n",
       "    <tr>\n",
       "      <th>4</th>\n",
       "      <td>1987_Suni</td>\n",
       "      <td>350.0</td>\n",
       "      <td>22.0</td>\n",
       "      <td>Oil</td>\n",
       "      <td>Air</td>\n",
       "      <td>860.0</td>\n",
       "      <td>4.13</td>\n",
       "      <td>0.007000</td>\n",
       "      <td>0.000010</td>\n",
       "      <td>0.032</td>\n",
       "      <td>0.0258</td>\n",
       "      <td>0</td>\n",
       "      <td>0.0</td>\n",
       "      <td>931.0</td>\n",
       "      <td>0.620824</td>\n",
       "      <td>0.876987</td>\n",
       "      <td>I</td>\n",
       "    </tr>\n",
       "  </tbody>\n",
       "</table>\n",
       "</div>"
      ],
      "text/plain": [
       "      Author       P     T Type of liquid Type of Gas    DenL    DenG  \\\n",
       "0  1982_Ovad   100.0  25.0          Water         Air  1000.0    1.18   \n",
       "1  2007_Omeb  9000.0  30.0        Naphtha    Nitrogen   700.5  103.00   \n",
       "2  1982_Ovad   100.0  25.0          Water         Air  1000.0    1.18   \n",
       "3  1982_Ovad   100.0  25.0          Water         Air  1000.0    1.18   \n",
       "4  1987_Suni   350.0  22.0            Oil         Air   860.0    4.13   \n",
       "\n",
       "       VisL      VisG     ST      ID  Roughness   Ang    L/D       Vsl  \\\n",
       "0  0.001000  0.000015  0.070  0.0250          0  70.0    NaN  0.978658   \n",
       "1  0.000325  0.000019  0.013  0.1890          0  90.0  275.1  0.653456   \n",
       "2  0.001000  0.000015  0.070  0.0250          0  15.0    NaN  1.670240   \n",
       "3  0.001000  0.000015  0.070  0.0250          0  -1.0    NaN  1.600000   \n",
       "4  0.007000  0.000010  0.032  0.0258          0   0.0  931.0  0.620824   \n",
       "\n",
       "        Vsg Flow_label  \n",
       "0  2.406290          I  \n",
       "1  6.111210          A  \n",
       "2  0.392419          I  \n",
       "3  0.016000         DB  \n",
       "4  0.876987          I  "
      ]
     },
     "execution_count": 5,
     "metadata": {},
     "output_type": "execute_result"
    }
   ],
   "source": [
    "df_b = shuffle(df_b, random_state=0)\n",
    "df_b.reset_index(drop=True, inplace=True)\n",
    "df_b.head()"
   ]
  },
  {
   "cell_type": "markdown",
   "metadata": {},
   "source": [
    "Define features and target columns"
   ]
  },
  {
   "cell_type": "code",
   "execution_count": 6,
   "metadata": {},
   "outputs": [],
   "source": [
    "target = 'Flow_label'\n",
    "features_b = df_b.columns.drop(target) #Bronze features"
   ]
  },
  {
   "cell_type": "markdown",
   "metadata": {},
   "source": [
    "## Train Test Splitting\n",
    "\n",
    "The first and most important part of the analysis, to avoid information leakage (and hence optimistic expectations) is to split the data between training and testing. Since we are dealing with a classification problem, stratified k fold is applied to the labels in order to preserve the original distribution in both training and testing"
   ]
  },
  {
   "cell_type": "code",
   "execution_count": 7,
   "metadata": {},
   "outputs": [],
   "source": [
    "skf = StratifiedKFold(n_splits=5, shuffle=True, random_state=42) #SKF\n",
    "train_idx, test_idx = next(skf.split(df_b[features_b].values, df_b[target].values.ravel())) #Get the split\n",
    "df_b, df_b_test = df_b.loc[train_idx].reset_index(drop=True), df_b.loc[test_idx] #Train, Test"
   ]
  },
  {
   "cell_type": "markdown",
   "metadata": {},
   "source": [
    "We now save the bronze (unprocessed) data in the right folder. No reasonable infomration leakage can now happen between training and testing now"
   ]
  },
  {
   "cell_type": "markdown",
   "metadata": {},
   "source": [
    "## Null Values and Variables Distribution\n",
    "\n",
    "We can now properly analyze the data, fist by checking for missing values, and then by exploring variables distributions"
   ]
  },
  {
   "cell_type": "code",
   "execution_count": 8,
   "metadata": {},
   "outputs": [
    {
     "data": {
      "text/plain": [
       "L/D    0.739439\n",
       "dtype: float64"
      ]
     },
     "execution_count": 8,
     "metadata": {},
     "output_type": "execute_result"
    }
   ],
   "source": [
    "Null_values = df_b.isnull().mean()[df_b.isnull().mean()!=0]\n",
    "Null_values"
   ]
  },
  {
   "cell_type": "markdown",
   "metadata": {},
   "source": [
    "It is clear that most of the data related to the lenght of the pipe is missing. While some argument could be made about treating this variable as a categorical and mean encode it, to keep the model relaviely simple, it will be removed in the following step (in the tranformation of the data from bronze to silver)"
   ]
  },
  {
   "cell_type": "markdown",
   "metadata": {},
   "source": [
    "## Target Distribution\n",
    "\n",
    "We see that the data is far from being evenly distribuited. The next step is to assess weather the target is balanced or not"
   ]
  },
  {
   "cell_type": "code",
   "execution_count": 9,
   "metadata": {},
   "outputs": [
    {
     "data": {
      "image/png": "[encoded data removed]",
      "text/plain": [
       "<Figure size 576x288 with 1 Axes>"
      ]
     },
     "metadata": {
      "needs_background": "light"
     },
     "output_type": "display_data"
    }
   ],
   "source": [
    "fig, axes = plt.subplots(nrows=1, ncols=1, figsize=(8, 4))   \n",
    "\n",
    "out_norm = df_b[target].value_counts(sort=False, normalize=True).mul(1)\n",
    "out_norm.plot.bar(rot=0)\n",
    "axes.set_ylabel(\"Freq\")\n",
    "axes.set_xlabel(\"Flow Regime\")\n",
    "axes.grid()\n",
    "\n",
    "plt.show()\n",
    "fig.savefig(f'Plots/Others/Flow_regimes.png', dpi=fig.dpi, bbox_inches='tight')"
   ]
  },
  {
   "cell_type": "markdown",
   "metadata": {},
   "source": [
    "There is a strong imbalance between the labels, the intermittent flow regime cover more than half the data. During training, oversampling technqiues will be required to improve the detection of the minority classes"
   ]
  },
  {
   "cell_type": "markdown",
   "metadata": {},
   "source": [
    "## Feature Engineering\n",
    "\n",
    "Once we have analyzed the various distribution, we see that feature engineering will be required to better separate the various classes. This is fundamental in tree based models like RandomForest and LightGBM. Additionally, to improve generability (sacrificng performance on this specific dataset) dimensionless quantities will replace dimensional quantities previously analyzed"
   ]
  },
  {
   "cell_type": "code",
   "execution_count": 10,
   "metadata": {},
   "outputs": [
    {
     "data": {
      "text/html": [
       "<div>\n",
       "<style scoped>\n",
       "    .dataframe tbody tr th:only-of-type {\n",
       "        vertical-align: middle;\n",
       "    }\n",
       "\n",
       "    .dataframe tbody tr th {\n",
       "        vertical-align: top;\n",
       "    }\n",
       "\n",
       "    .dataframe thead th {\n",
       "        text-align: right;\n",
       "    }\n",
       "</style>\n",
       "<table border=\"1\" class=\"dataframe\">\n",
       "  <thead>\n",
       "    <tr style=\"text-align: right;\">\n",
       "      <th></th>\n",
       "      <th>Ang</th>\n",
       "      <th>ReL</th>\n",
       "      <th>ReG</th>\n",
       "      <th>FrL</th>\n",
       "      <th>FrG</th>\n",
       "      <th>NL</th>\n",
       "      <th>X_LM</th>\n",
       "      <th>X_LM_2</th>\n",
       "      <th>Y</th>\n",
       "      <th>We</th>\n",
       "      <th>Eo</th>\n",
       "      <th>HU</th>\n",
       "      <th>K_G</th>\n",
       "      <th>T_TB</th>\n",
       "      <th>Flow_label</th>\n",
       "    </tr>\n",
       "  </thead>\n",
       "  <tbody>\n",
       "    <tr>\n",
       "      <th>0</th>\n",
       "      <td>70.0</td>\n",
       "      <td>24466.450000</td>\n",
       "      <td>4732.370333</td>\n",
       "      <td>1.977684</td>\n",
       "      <td>0.167038</td>\n",
       "      <td>0.067433</td>\n",
       "      <td>9.536429</td>\n",
       "      <td>90.943470</td>\n",
       "      <td>9396.899099</td>\n",
       "      <td>342.061243</td>\n",
       "      <td>87.456055</td>\n",
       "      <td>0.855173</td>\n",
       "      <td>26.127659</td>\n",
       "      <td>0.009094</td>\n",
       "      <td>2</td>\n",
       "    </tr>\n",
       "    <tr>\n",
       "      <th>1</th>\n",
       "      <td>15.0</td>\n",
       "      <td>41756.000000</td>\n",
       "      <td>771.757367</td>\n",
       "      <td>3.375242</td>\n",
       "      <td>0.027241</td>\n",
       "      <td>0.108119</td>\n",
       "      <td>27.565536</td>\n",
       "      <td>759.858750</td>\n",
       "      <td>8411.876527</td>\n",
       "      <td>996.322021</td>\n",
       "      <td>87.456055</td>\n",
       "      <td>0.855671</td>\n",
       "      <td>5.566427</td>\n",
       "      <td>0.023380</td>\n",
       "      <td>2</td>\n",
       "    </tr>\n",
       "    <tr>\n",
       "      <th>2</th>\n",
       "      <td>-1.0</td>\n",
       "      <td>40000.000000</td>\n",
       "      <td>31.466667</td>\n",
       "      <td>3.233300</td>\n",
       "      <td>0.001111</td>\n",
       "      <td>0.104080</td>\n",
       "      <td>131.415812</td>\n",
       "      <td>17270.115534</td>\n",
       "      <td>-13911.758220</td>\n",
       "      <td>914.285714</td>\n",
       "      <td>87.456055</td>\n",
       "      <td>0.869445</td>\n",
       "      <td>0.222135</td>\n",
       "      <td>0.021665</td>\n",
       "      <td>1</td>\n",
       "    </tr>\n",
       "    <tr>\n",
       "      <th>3</th>\n",
       "      <td>0.0</td>\n",
       "      <td>1967.834702</td>\n",
       "      <td>9344.647280</td>\n",
       "      <td>1.237211</td>\n",
       "      <td>0.121114</td>\n",
       "      <td>0.111560</td>\n",
       "      <td>23.916428</td>\n",
       "      <td>571.995542</td>\n",
       "      <td>0.000000</td>\n",
       "      <td>267.242284</td>\n",
       "      <td>174.589416</td>\n",
       "      <td>0.705758</td>\n",
       "      <td>5.372648</td>\n",
       "      <td>0.024891</td>\n",
       "      <td>2</td>\n",
       "    </tr>\n",
       "    <tr>\n",
       "      <th>4</th>\n",
       "      <td>0.0</td>\n",
       "      <td>3847.587937</td>\n",
       "      <td>438975.247408</td>\n",
       "      <td>0.394137</td>\n",
       "      <td>1.052936</td>\n",
       "      <td>0.017198</td>\n",
       "      <td>0.648012</td>\n",
       "      <td>0.419920</td>\n",
       "      <td>0.000000</td>\n",
       "      <td>235.178898</td>\n",
       "      <td>1513.924625</td>\n",
       "      <td>0.150659</td>\n",
       "      <td>65.312469</td>\n",
       "      <td>0.000592</td>\n",
       "      <td>0</td>\n",
       "    </tr>\n",
       "  </tbody>\n",
       "</table>\n",
       "</div>"
      ],
      "text/plain": [
       "    Ang           ReL            ReG       FrL       FrG        NL  \\\n",
       "0  70.0  24466.450000    4732.370333  1.977684  0.167038  0.067433   \n",
       "1  15.0  41756.000000     771.757367  3.375242  0.027241  0.108119   \n",
       "2  -1.0  40000.000000      31.466667  3.233300  0.001111  0.104080   \n",
       "3   0.0   1967.834702    9344.647280  1.237211  0.121114  0.111560   \n",
       "4   0.0   3847.587937  438975.247408  0.394137  1.052936  0.017198   \n",
       "\n",
       "         X_LM        X_LM_2             Y          We           Eo        HU  \\\n",
       "0    9.536429     90.943470   9396.899099  342.061243    87.456055  0.855173   \n",
       "1   27.565536    759.858750   8411.876527  996.322021    87.456055  0.855671   \n",
       "2  131.415812  17270.115534 -13911.758220  914.285714    87.456055  0.869445   \n",
       "3   23.916428    571.995542      0.000000  267.242284   174.589416  0.705758   \n",
       "4    0.648012      0.419920      0.000000  235.178898  1513.924625  0.150659   \n",
       "\n",
       "         K_G      T_TB  Flow_label  \n",
       "0  26.127659  0.009094           2  \n",
       "1   5.566427  0.023380           2  \n",
       "2   0.222135  0.021665           1  \n",
       "3   5.372648  0.024891           2  \n",
       "4  65.312469  0.000592           0  "
      ]
     },
     "execution_count": 10,
     "metadata": {},
     "output_type": "execute_result"
    }
   ],
   "source": [
    "df_g = fe.bronze_to_gold(df_b) #Gold data (Ready to be processed)\n",
    "features_g = df_g.columns.drop(target) #Gold features\n",
    "df_g.head()"
   ]
  },
  {
   "cell_type": "markdown",
   "metadata": {},
   "source": [
    "## Specific BoxPlots\n",
    "\n",
    "It can be interesting to display the boxplots of some promising features, to check if they are of use to separate the various classes. Here the three most important features found in the analysis are displayed, and they are clearly able to differentiate the flow regimes by some degree. Note that for display purposes, the logarithm of the velocities is taken (the models used for the analysis are however unaffected by the scale of the features used)"
   ]
  },
  {
   "cell_type": "code",
   "execution_count": 11,
   "metadata": {},
   "outputs": [],
   "source": [
    "log_q = [q for q in df_g[features_g].columns if df_g[q].min()>=0]\n",
    "df_log = pd.DataFrame(df_b[target], columns=[target])\n",
    "for q in log_q:\n",
    "    df_log[f'log({q})'] = np.log10(df_g[q])"
   ]
  },
  {
   "cell_type": "code",
   "execution_count": 12,
   "metadata": {},
   "outputs": [
    {
     "data": {
      "image/png": "[encoded data removed]",
      "text/plain": [
       "<Figure size 1008x432 with 3 Axes>"
      ]
     },
     "metadata": {
      "needs_background": "light"
     },
     "output_type": "display_data"
    }
   ],
   "source": [
    "df_ALL = pd.concat([df_log, df_g, df_b], axis=1)\n",
    "df_ALL = df_ALL.loc[:,~df_ALL.columns.duplicated()]\n",
    "\n",
    "to_plot_features = [\"log(FrG)\", \"log(FrL)\", \"Ang\"]\n",
    "\n",
    "fig, axes = plt.subplots(nrows=1, ncols=len(to_plot_features), figsize=(14, 6)) \n",
    "for quantity, i in zip(to_plot_features, range(len(to_plot_features))):\n",
    "    df_ALL[[quantity, target]].boxplot(by=target, \n",
    "                                           showfliers=False, \n",
    "                                           ax=axes[i])\n",
    "    axes[i].set_xlabel(\"Flow Pattern\")\n",
    "    fig.suptitle('')\n",
    "\n",
    "axes[0].set_title(r\"$log(Fr_{G})$\")\n",
    "axes[1].set_title(r\"$log(Fr_{L})$\")\n",
    "axes[2].set_title(r\"$\\theta$\")\n",
    "\n",
    "fig.savefig(f'Plots/BoxPlots/FE.png', dpi=fig.dpi, bbox_inches='tight')"
   ]
  },
  {
   "cell_type": "markdown",
   "metadata": {},
   "source": [
    "## Feature Correlation\n",
    "\n",
    "We can check the quality of the generated features by mean of correlation. It is evident that the proposed features are mostly uncorrelated, and offer different types of signals for our model."
   ]
  },
  {
   "cell_type": "code",
   "execution_count": 13,
   "metadata": {},
   "outputs": [
    {
     "data": {
      "image/png": "[encoded data removed]",
      "text/plain": [
       "<Figure size 1000x800 with 2 Axes>"
      ]
     },
     "metadata": {
      "needs_background": "light"
     },
     "output_type": "display_data"
    }
   ],
   "source": [
    "df_corr = df_g.drop(columns=target)\n",
    "df_corr.columns = [r'$\\theta$', r'$Re_{L}$', r'$Re_{G}$', \n",
    "                   r'$Fr_{L}$', r'$Fr_{G}$', r'$N_{L}$', \n",
    "                   r'$X_{LM}$', r'$X_{LM}^2$', r'$Y$', \n",
    "                   r'$We$', r'$Eo$', r'$\\alpha_{L}$', \n",
    "                   r'$K_{G}$', r'$T_{TB}$']\n",
    "\n",
    "fig = plt.figure(figsize=(10, 8), dpi=100)\n",
    "plt.matshow((df_corr).corr(), fignum=fig.number, cmap='seismic')\n",
    "\n",
    "plt.xticks(range(df_corr.shape[1]), df_corr.columns, fontsize=14, rotation=45)\n",
    "plt.yticks(range(df_corr.shape[1]), df_corr.columns, fontsize=14)\n",
    "\n",
    "cb = plt.colorbar()\n",
    "cb.ax.tick_params(labelsize=14)\n",
    "\n",
    "fig.savefig(f'Plots/Others/CorrMat.png', dpi=fig.dpi, bbox_inches='tight')"
   ]
  },
  {
   "cell_type": "code",
   "execution_count": 14,
   "metadata": {},
   "outputs": [],
   "source": [
    "df_b.to_csv('Data/Train_bronze.csv', index=False)\n",
    "df_b_test.to_csv('Data/Test_bronze.csv', index=False)\n",
    "df_g.to_csv('Data/Train_gold.csv', index=False)"
   ]
  }
 ],
 "metadata": {
  "kernelspec": {
   "display_name": "Python 3",
   "language": "python",
   "name": "python3"
  },
  "language_info": {
   "codemirror_mode": {
    "name": "ipython",
    "version": 3
   },
   "file_extension": ".py",
   "mimetype": "text/x-python",
   "name": "python",
   "nbconvert_exporter": "python",
   "pygments_lexer": "ipython3",
   "version": "3.8.5"
  }
 },
 "nbformat": 4,
 "nbformat_minor": 4
}
