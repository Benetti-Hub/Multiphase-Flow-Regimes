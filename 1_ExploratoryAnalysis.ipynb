{
 "cells": [
  {
   "cell_type": "markdown",
   "metadata": {},
   "source": [
    "# Exploratory Data Analysis\n",
    "\n",
    "This Notebook is dedicated to performing the data analysis of the variables that describe the dataset. This notebook will perform data exploration, as well feature engineering using the known physics related to the problem at hand."
   ]
  },
  {
   "cell_type": "code",
   "execution_count": 1,
   "metadata": {},
   "outputs": [],
   "source": [
    "#For development\n",
    "#Reload the library when a change is detected in one of the imported libraries\n",
    "%load_ext autoreload\n",
    "%autoreload 2"
   ]
  },
  {
   "cell_type": "code",
   "execution_count": 2,
   "metadata": {},
   "outputs": [],
   "source": [
    "import pandas as pd\n",
    "import numpy as np\n",
    "\n",
    "from sklearn.model_selection import StratifiedKFold\n",
    "from sklearn.utils import shuffle\n",
    "\n",
    "import matplotlib.pyplot as plt"
   ]
  },
  {
   "cell_type": "code",
   "execution_count": 3,
   "metadata": {},
   "outputs": [],
   "source": [
    "#Custom utils file\n",
    "from src import feature_engineering as fe"
   ]
  },
  {
   "cell_type": "raw",
   "metadata": {},
   "source": [
    "df_b = pd.read_csv('data/Data.csv')\n",
    "df_b['Author'] = df_b[\"Author\"].str.slice(stop=8)\n",
    "di = {'A': 4, 'DB': 1, 'I': 5, 'SW': 3, 'SS': 2, 'B': 7}\n",
    "inv_di = {i:k for k,i in di.items()}\n",
    "\n",
    "df_b.replace({\"Flow_label\" : inv_di}, inplace=True)\n",
    "df_b.to_csv(\"data/Dataset.csv\", index=False)"
   ]
  },
  {
   "cell_type": "code",
   "execution_count": 4,
   "metadata": {},
   "outputs": [
    {
     "data": {
      "text/html": [
       "<div>\n",
       "<style scoped>\n",
       "    .dataframe tbody tr th:only-of-type {\n",
       "        vertical-align: middle;\n",
       "    }\n",
       "\n",
       "    .dataframe tbody tr th {\n",
       "        vertical-align: top;\n",
       "    }\n",
       "\n",
       "    .dataframe thead th {\n",
       "        text-align: right;\n",
       "    }\n",
       "</style>\n",
       "<table border=\"1\" class=\"dataframe\">\n",
       "  <thead>\n",
       "    <tr style=\"text-align: right;\">\n",
       "      <th></th>\n",
       "      <th>Author</th>\n",
       "      <th>P</th>\n",
       "      <th>T</th>\n",
       "      <th>Type of liquid</th>\n",
       "      <th>Type of Gas</th>\n",
       "      <th>DenL</th>\n",
       "      <th>DenG</th>\n",
       "      <th>VisL</th>\n",
       "      <th>VisG</th>\n",
       "      <th>ST</th>\n",
       "      <th>ID</th>\n",
       "      <th>Roughness</th>\n",
       "      <th>Ang</th>\n",
       "      <th>L/D</th>\n",
       "      <th>Vsl</th>\n",
       "      <th>Vsg</th>\n",
       "      <th>Flow_label</th>\n",
       "    </tr>\n",
       "  </thead>\n",
       "  <tbody>\n",
       "    <tr>\n",
       "      <th>0</th>\n",
       "      <td>1985_Piu</td>\n",
       "      <td>100.0</td>\n",
       "      <td>20.0</td>\n",
       "      <td>Water</td>\n",
       "      <td>Air</td>\n",
       "      <td>1000.0</td>\n",
       "      <td>1.12</td>\n",
       "      <td>0.001</td>\n",
       "      <td>0.00007</td>\n",
       "      <td>0.07</td>\n",
       "      <td>0.0254</td>\n",
       "      <td>0</td>\n",
       "      <td>0.0</td>\n",
       "      <td>NaN</td>\n",
       "      <td>0.044817</td>\n",
       "      <td>0.814024</td>\n",
       "      <td>SW</td>\n",
       "    </tr>\n",
       "    <tr>\n",
       "      <th>1</th>\n",
       "      <td>1985_Piu</td>\n",
       "      <td>100.0</td>\n",
       "      <td>20.0</td>\n",
       "      <td>Water</td>\n",
       "      <td>Air</td>\n",
       "      <td>1000.0</td>\n",
       "      <td>1.12</td>\n",
       "      <td>0.001</td>\n",
       "      <td>0.00007</td>\n",
       "      <td>0.07</td>\n",
       "      <td>0.0254</td>\n",
       "      <td>0</td>\n",
       "      <td>0.0</td>\n",
       "      <td>600.0</td>\n",
       "      <td>0.060976</td>\n",
       "      <td>0.814024</td>\n",
       "      <td>I</td>\n",
       "    </tr>\n",
       "    <tr>\n",
       "      <th>2</th>\n",
       "      <td>1985_Piu</td>\n",
       "      <td>100.0</td>\n",
       "      <td>20.0</td>\n",
       "      <td>Water</td>\n",
       "      <td>Air</td>\n",
       "      <td>1000.0</td>\n",
       "      <td>1.12</td>\n",
       "      <td>0.001</td>\n",
       "      <td>0.00007</td>\n",
       "      <td>0.07</td>\n",
       "      <td>0.0254</td>\n",
       "      <td>0</td>\n",
       "      <td>0.0</td>\n",
       "      <td>600.0</td>\n",
       "      <td>0.088110</td>\n",
       "      <td>0.814024</td>\n",
       "      <td>I</td>\n",
       "    </tr>\n",
       "    <tr>\n",
       "      <th>3</th>\n",
       "      <td>1985_Piu</td>\n",
       "      <td>100.0</td>\n",
       "      <td>20.0</td>\n",
       "      <td>Water</td>\n",
       "      <td>Air</td>\n",
       "      <td>1000.0</td>\n",
       "      <td>1.12</td>\n",
       "      <td>0.001</td>\n",
       "      <td>0.00007</td>\n",
       "      <td>0.07</td>\n",
       "      <td>0.0254</td>\n",
       "      <td>0</td>\n",
       "      <td>0.0</td>\n",
       "      <td>600.0</td>\n",
       "      <td>0.060976</td>\n",
       "      <td>1.103659</td>\n",
       "      <td>I</td>\n",
       "    </tr>\n",
       "    <tr>\n",
       "      <th>4</th>\n",
       "      <td>1985_Piu</td>\n",
       "      <td>100.0</td>\n",
       "      <td>20.0</td>\n",
       "      <td>Water</td>\n",
       "      <td>Air</td>\n",
       "      <td>1000.0</td>\n",
       "      <td>1.12</td>\n",
       "      <td>0.001</td>\n",
       "      <td>0.00007</td>\n",
       "      <td>0.07</td>\n",
       "      <td>0.0254</td>\n",
       "      <td>0</td>\n",
       "      <td>0.0</td>\n",
       "      <td>600.0</td>\n",
       "      <td>0.121951</td>\n",
       "      <td>1.103659</td>\n",
       "      <td>I</td>\n",
       "    </tr>\n",
       "  </tbody>\n",
       "</table>\n",
       "</div>"
      ],
      "text/plain": [
       "     Author      P     T Type of liquid Type of Gas    DenL  DenG   VisL  \\\n",
       "0  1985_Piu  100.0  20.0          Water         Air  1000.0  1.12  0.001   \n",
       "1  1985_Piu  100.0  20.0          Water         Air  1000.0  1.12  0.001   \n",
       "2  1985_Piu  100.0  20.0          Water         Air  1000.0  1.12  0.001   \n",
       "3  1985_Piu  100.0  20.0          Water         Air  1000.0  1.12  0.001   \n",
       "4  1985_Piu  100.0  20.0          Water         Air  1000.0  1.12  0.001   \n",
       "\n",
       "      VisG    ST      ID  Roughness  Ang    L/D       Vsl       Vsg Flow_label  \n",
       "0  0.00007  0.07  0.0254          0  0.0    NaN  0.044817  0.814024         SW  \n",
       "1  0.00007  0.07  0.0254          0  0.0  600.0  0.060976  0.814024          I  \n",
       "2  0.00007  0.07  0.0254          0  0.0  600.0  0.088110  0.814024          I  \n",
       "3  0.00007  0.07  0.0254          0  0.0  600.0  0.060976  1.103659          I  \n",
       "4  0.00007  0.07  0.0254          0  0.0  600.0  0.121951  1.103659          I  "
      ]
     },
     "execution_count": 4,
     "metadata": {},
     "output_type": "execute_result"
    }
   ],
   "source": [
    "#Load the RAW dataset\n",
    "df_b = pd.read_csv('data/wrong/Dataset.csv')\n",
    "df_b.head()"
   ]
  },
  {
   "cell_type": "code",
   "execution_count": 5,
   "metadata": {},
   "outputs": [
    {
     "data": {
      "text/html": [
       "<div>\n",
       "<style scoped>\n",
       "    .dataframe tbody tr th:only-of-type {\n",
       "        vertical-align: middle;\n",
       "    }\n",
       "\n",
       "    .dataframe tbody tr th {\n",
       "        vertical-align: top;\n",
       "    }\n",
       "\n",
       "    .dataframe thead th {\n",
       "        text-align: right;\n",
       "    }\n",
       "</style>\n",
       "<table border=\"1\" class=\"dataframe\">\n",
       "  <thead>\n",
       "    <tr style=\"text-align: right;\">\n",
       "      <th></th>\n",
       "      <th>Author</th>\n",
       "      <th>P</th>\n",
       "      <th>T</th>\n",
       "      <th>Type of liquid</th>\n",
       "      <th>Type of Gas</th>\n",
       "      <th>DenL</th>\n",
       "      <th>DenG</th>\n",
       "      <th>VisL</th>\n",
       "      <th>VisG</th>\n",
       "      <th>ST</th>\n",
       "      <th>ID</th>\n",
       "      <th>Roughness</th>\n",
       "      <th>Ang</th>\n",
       "      <th>L/D</th>\n",
       "      <th>Vsl</th>\n",
       "      <th>Vsg</th>\n",
       "      <th>Flow_label</th>\n",
       "    </tr>\n",
       "  </thead>\n",
       "  <tbody>\n",
       "    <tr>\n",
       "      <th>0</th>\n",
       "      <td>1982_Ova</td>\n",
       "      <td>102973.3</td>\n",
       "      <td>NaN</td>\n",
       "      <td>water</td>\n",
       "      <td>Air</td>\n",
       "      <td>1000.0</td>\n",
       "      <td>1.8</td>\n",
       "      <td>0.001</td>\n",
       "      <td>0.000015</td>\n",
       "      <td>0.07</td>\n",
       "      <td>0.025</td>\n",
       "      <td>0</td>\n",
       "      <td>-10.0</td>\n",
       "      <td>NaN</td>\n",
       "      <td>0.004000</td>\n",
       "      <td>0.100000</td>\n",
       "      <td>SW</td>\n",
       "    </tr>\n",
       "    <tr>\n",
       "      <th>1</th>\n",
       "      <td>1982_Ova</td>\n",
       "      <td>103792.3</td>\n",
       "      <td>NaN</td>\n",
       "      <td>water</td>\n",
       "      <td>Air</td>\n",
       "      <td>1000.0</td>\n",
       "      <td>1.8</td>\n",
       "      <td>0.001</td>\n",
       "      <td>0.000015</td>\n",
       "      <td>0.07</td>\n",
       "      <td>0.051</td>\n",
       "      <td>0</td>\n",
       "      <td>70.0</td>\n",
       "      <td>NaN</td>\n",
       "      <td>1.576270</td>\n",
       "      <td>6.288810</td>\n",
       "      <td>I</td>\n",
       "    </tr>\n",
       "    <tr>\n",
       "      <th>2</th>\n",
       "      <td>1982_Ova</td>\n",
       "      <td>102647.3</td>\n",
       "      <td>NaN</td>\n",
       "      <td>water</td>\n",
       "      <td>Air</td>\n",
       "      <td>1000.0</td>\n",
       "      <td>1.8</td>\n",
       "      <td>0.001</td>\n",
       "      <td>0.000015</td>\n",
       "      <td>0.07</td>\n",
       "      <td>0.051</td>\n",
       "      <td>0</td>\n",
       "      <td>15.0</td>\n",
       "      <td>NaN</td>\n",
       "      <td>1.048110</td>\n",
       "      <td>0.151886</td>\n",
       "      <td>I</td>\n",
       "    </tr>\n",
       "    <tr>\n",
       "      <th>3</th>\n",
       "      <td>1982_Ova</td>\n",
       "      <td>102812.3</td>\n",
       "      <td>NaN</td>\n",
       "      <td>water</td>\n",
       "      <td>Air</td>\n",
       "      <td>1000.0</td>\n",
       "      <td>1.8</td>\n",
       "      <td>0.001</td>\n",
       "      <td>0.000015</td>\n",
       "      <td>0.07</td>\n",
       "      <td>0.051</td>\n",
       "      <td>0</td>\n",
       "      <td>20.0</td>\n",
       "      <td>NaN</td>\n",
       "      <td>0.096738</td>\n",
       "      <td>1.592980</td>\n",
       "      <td>I</td>\n",
       "    </tr>\n",
       "    <tr>\n",
       "      <th>4</th>\n",
       "      <td>1982_Ova</td>\n",
       "      <td>103924.3</td>\n",
       "      <td>NaN</td>\n",
       "      <td>water</td>\n",
       "      <td>Air</td>\n",
       "      <td>1000.0</td>\n",
       "      <td>1.8</td>\n",
       "      <td>0.001</td>\n",
       "      <td>0.000015</td>\n",
       "      <td>0.07</td>\n",
       "      <td>0.025</td>\n",
       "      <td>0</td>\n",
       "      <td>-80.0</td>\n",
       "      <td>NaN</td>\n",
       "      <td>0.004077</td>\n",
       "      <td>16.383900</td>\n",
       "      <td>SW</td>\n",
       "    </tr>\n",
       "  </tbody>\n",
       "</table>\n",
       "</div>"
      ],
      "text/plain": [
       "     Author         P   T Type of liquid Type of Gas    DenL  DenG   VisL  \\\n",
       "0  1982_Ova  102973.3 NaN          water         Air  1000.0   1.8  0.001   \n",
       "1  1982_Ova  103792.3 NaN          water         Air  1000.0   1.8  0.001   \n",
       "2  1982_Ova  102647.3 NaN          water         Air  1000.0   1.8  0.001   \n",
       "3  1982_Ova  102812.3 NaN          water         Air  1000.0   1.8  0.001   \n",
       "4  1982_Ova  103924.3 NaN          water         Air  1000.0   1.8  0.001   \n",
       "\n",
       "       VisG    ST     ID  Roughness   Ang  L/D       Vsl        Vsg Flow_label  \n",
       "0  0.000015  0.07  0.025          0 -10.0  NaN  0.004000   0.100000         SW  \n",
       "1  0.000015  0.07  0.051          0  70.0  NaN  1.576270   6.288810          I  \n",
       "2  0.000015  0.07  0.051          0  15.0  NaN  1.048110   0.151886          I  \n",
       "3  0.000015  0.07  0.051          0  20.0  NaN  0.096738   1.592980          I  \n",
       "4  0.000015  0.07  0.025          0 -80.0  NaN  0.004077  16.383900         SW  "
      ]
     },
     "execution_count": 5,
     "metadata": {},
     "output_type": "execute_result"
    }
   ],
   "source": [
    "df_b = shuffle(df_b, random_state=0)\n",
    "df_b.reset_index(drop=True, inplace=True)\n",
    "df_b.head()"
   ]
  },
  {
   "cell_type": "markdown",
   "metadata": {},
   "source": [
    "Define features and target columns"
   ]
  },
  {
   "cell_type": "code",
   "execution_count": 6,
   "metadata": {},
   "outputs": [],
   "source": [
    "target = 'Flow_label'\n",
    "features_b = df_b.columns.drop(target) #Bronze features"
   ]
  },
  {
   "cell_type": "markdown",
   "metadata": {},
   "source": [
    "## Train Test Splitting\n",
    "\n",
    "The first and most important part of the analysis, to avoid information leakage (and hence optimistic expectations) is to split the data between training and testing. Since we are dealing with a classification problem, stratified k fold is applied to the labels in order to preserve the original distribution in both training and testing"
   ]
  },
  {
   "cell_type": "code",
   "execution_count": 7,
   "metadata": {},
   "outputs": [],
   "source": [
    "skf = StratifiedKFold(n_splits=5, shuffle=True, random_state=42) #SKF\n",
    "train_idx, test_idx = next(skf.split(df_b[features_b].values, df_b[target].values.ravel())) #Get the split\n",
    "df_b_train, df_b_test = df_b.loc[train_idx].reset_index(drop=True), df_b.loc[test_idx] #Train, Test"
   ]
  },
  {
   "cell_type": "markdown",
   "metadata": {},
   "source": [
    "We now save the bronze (unprocessed) data in the right folder. No reasonable infomration leakage can now happen between training and testing now"
   ]
  },
  {
   "cell_type": "markdown",
   "metadata": {},
   "source": [
    "## Null Values and Variables Distribution\n",
    "\n",
    "We can now properly analyze the data, fist by checking for missing values, and then by exploring variables distributions"
   ]
  },
  {
   "cell_type": "code",
   "execution_count": 8,
   "metadata": {},
   "outputs": [
    {
     "data": {
      "text/plain": [
       "P      0.009044\n",
       "T      0.650690\n",
       "L/D    0.716934\n",
       "dtype: float64"
      ]
     },
     "execution_count": 8,
     "metadata": {},
     "output_type": "execute_result"
    }
   ],
   "source": [
    "Null_values = df_b.isnull().mean()[df_b.isnull().mean()!=0]\n",
    "Null_values"
   ]
  },
  {
   "cell_type": "markdown",
   "metadata": {},
   "source": [
    "It is clear that most of the data related to the lenght of the pipe is missing. While some argument could be made about treating this variable as a categorical and mean encode it, to keep the model relaviely simple, it will be removed in the following step (in the tranformation of the data from bronze to silver)"
   ]
  },
  {
   "cell_type": "markdown",
   "metadata": {},
   "source": [
    "## Target Distribution\n",
    "\n",
    "We see that the data is far from being evenly distribuited. The next step is to assess weather the target is balanced or not"
   ]
  },
  {
   "cell_type": "code",
   "execution_count": 9,
   "metadata": {},
   "outputs": [
    {
     "data": {
      "image/png": "[encoded data removed]",
      "text/plain": [
       "<Figure size 800x400 with 1 Axes>"
      ]
     },
     "metadata": {},
     "output_type": "display_data"
    }
   ],
   "source": [
    "fig, axes = plt.subplots(nrows=1, ncols=1, figsize=(8, 4))   \n",
    "\n",
    "out_norm = df_b[target].value_counts(sort=False, normalize=True).mul(1)\n",
    "out_norm.plot.bar(rot=0)\n",
    "axes.set_ylabel(\"Freq\")\n",
    "axes.set_xlabel(\"Flow Regime\")\n",
    "axes.grid()\n",
    "\n",
    "plt.show()\n",
    "fig.savefig(f'plots/others/flow_patterns.png', dpi=fig.dpi, bbox_inches='tight')"
   ]
  },
  {
   "cell_type": "markdown",
   "metadata": {},
   "source": [
    "There is a strong imbalance between the labels, the intermittent flow regime cover more than half the data. During training, oversampling technqiues will be required to improve the detection of the minority classes"
   ]
  },
  {
   "cell_type": "markdown",
   "metadata": {},
   "source": [
    "## Feature Engineering\n",
    "\n",
    "Once we have analyzed the various distribution, we see that feature engineering will be required to better separate the various classes. This is fundamental in tree based models like RandomForest and LightGBM. Additionally, to improve generability (sacrificng performance on this specific dataset) dimensionless quantities will replace dimensional quantities previously analyzed"
   ]
  },
  {
   "cell_type": "code",
   "execution_count": 10,
   "metadata": {},
   "outputs": [
    {
     "data": {
      "text/html": [
       "<div>\n",
       "<style scoped>\n",
       "    .dataframe tbody tr th:only-of-type {\n",
       "        vertical-align: middle;\n",
       "    }\n",
       "\n",
       "    .dataframe tbody tr th {\n",
       "        vertical-align: top;\n",
       "    }\n",
       "\n",
       "    .dataframe thead th {\n",
       "        text-align: right;\n",
       "    }\n",
       "</style>\n",
       "<table border=\"1\" class=\"dataframe\">\n",
       "  <thead>\n",
       "    <tr style=\"text-align: right;\">\n",
       "      <th></th>\n",
       "      <th>Ang</th>\n",
       "      <th>ReL</th>\n",
       "      <th>ReG</th>\n",
       "      <th>FrL</th>\n",
       "      <th>FrG</th>\n",
       "      <th>NL</th>\n",
       "      <th>X_LM</th>\n",
       "      <th>X_LM_2</th>\n",
       "      <th>Y</th>\n",
       "      <th>We</th>\n",
       "      <th>Eo</th>\n",
       "      <th>HU</th>\n",
       "      <th>K_G</th>\n",
       "      <th>T_TB</th>\n",
       "      <th>Flow_label</th>\n",
       "    </tr>\n",
       "  </thead>\n",
       "  <tbody>\n",
       "    <tr>\n",
       "      <th>0</th>\n",
       "      <td>-10.0</td>\n",
       "      <td>100.0000</td>\n",
       "      <td>300.00000</td>\n",
       "      <td>0.008086</td>\n",
       "      <td>0.008576</td>\n",
       "      <td>0.003234</td>\n",
       "      <td>1.632993</td>\n",
       "      <td>2.666667</td>\n",
       "      <td>-22133.355066</td>\n",
       "      <td>0.005714</td>\n",
       "      <td>87.401768</td>\n",
       "      <td>0.049310</td>\n",
       "      <td>0.085762</td>\n",
       "      <td>0.000021</td>\n",
       "      <td>3</td>\n",
       "    </tr>\n",
       "    <tr>\n",
       "      <th>1</th>\n",
       "      <td>70.0</td>\n",
       "      <td>80389.7700</td>\n",
       "      <td>38487.51720</td>\n",
       "      <td>2.230881</td>\n",
       "      <td>0.377616</td>\n",
       "      <td>0.066492</td>\n",
       "      <td>5.446049</td>\n",
       "      <td>29.659449</td>\n",
       "      <td>3151.951310</td>\n",
       "      <td>1810.228325</td>\n",
       "      <td>363.731198</td>\n",
       "      <td>0.776082</td>\n",
       "      <td>107.065836</td>\n",
       "      <td>0.008842</td>\n",
       "      <td>2</td>\n",
       "    </tr>\n",
       "    <tr>\n",
       "      <th>2</th>\n",
       "      <td>15.0</td>\n",
       "      <td>53453.6100</td>\n",
       "      <td>929.54232</td>\n",
       "      <td>1.483381</td>\n",
       "      <td>0.009120</td>\n",
       "      <td>0.046218</td>\n",
       "      <td>38.626531</td>\n",
       "      <td>1492.008865</td>\n",
       "      <td>90389.054098</td>\n",
       "      <td>800.360903</td>\n",
       "      <td>363.731198</td>\n",
       "      <td>0.941572</td>\n",
       "      <td>2.108571</td>\n",
       "      <td>0.004272</td>\n",
       "      <td>2</td>\n",
       "    </tr>\n",
       "    <tr>\n",
       "      <th>3</th>\n",
       "      <td>20.0</td>\n",
       "      <td>4933.6227</td>\n",
       "      <td>9749.03760</td>\n",
       "      <td>0.136912</td>\n",
       "      <td>0.095652</td>\n",
       "      <td>0.005761</td>\n",
       "      <td>1.572683</td>\n",
       "      <td>2.473331</td>\n",
       "      <td>12743.796628</td>\n",
       "      <td>6.818104</td>\n",
       "      <td>363.731198</td>\n",
       "      <td>0.871029</td>\n",
       "      <td>6.718547</td>\n",
       "      <td>0.000066</td>\n",
       "      <td>2</td>\n",
       "    </tr>\n",
       "    <tr>\n",
       "      <th>4</th>\n",
       "      <td>-80.0</td>\n",
       "      <td>101.9275</td>\n",
       "      <td>49151.70000</td>\n",
       "      <td>0.008242</td>\n",
       "      <td>1.405123</td>\n",
       "      <td>0.003265</td>\n",
       "      <td>0.073892</td>\n",
       "      <td>0.005460</td>\n",
       "      <td>-252.151673</td>\n",
       "      <td>0.005937</td>\n",
       "      <td>87.401768</td>\n",
       "      <td>0.024407</td>\n",
       "      <td>14.186005</td>\n",
       "      <td>0.000021</td>\n",
       "      <td>3</td>\n",
       "    </tr>\n",
       "  </tbody>\n",
       "</table>\n",
       "</div>"
      ],
      "text/plain": [
       "    Ang         ReL          ReG       FrL       FrG        NL       X_LM  \\\n",
       "0 -10.0    100.0000    300.00000  0.008086  0.008576  0.003234   1.632993   \n",
       "1  70.0  80389.7700  38487.51720  2.230881  0.377616  0.066492   5.446049   \n",
       "2  15.0  53453.6100    929.54232  1.483381  0.009120  0.046218  38.626531   \n",
       "3  20.0   4933.6227   9749.03760  0.136912  0.095652  0.005761   1.572683   \n",
       "4 -80.0    101.9275  49151.70000  0.008242  1.405123  0.003265   0.073892   \n",
       "\n",
       "        X_LM_2             Y           We          Eo        HU         K_G  \\\n",
       "0     2.666667 -22133.355066     0.005714   87.401768  0.049310    0.085762   \n",
       "1    29.659449   3151.951310  1810.228325  363.731198  0.776082  107.065836   \n",
       "2  1492.008865  90389.054098   800.360903  363.731198  0.941572    2.108571   \n",
       "3     2.473331  12743.796628     6.818104  363.731198  0.871029    6.718547   \n",
       "4     0.005460   -252.151673     0.005937   87.401768  0.024407   14.186005   \n",
       "\n",
       "       T_TB  Flow_label  \n",
       "0  0.000021           3  \n",
       "1  0.008842           2  \n",
       "2  0.004272           2  \n",
       "3  0.000066           2  \n",
       "4  0.000021           3  "
      ]
     },
     "execution_count": 10,
     "metadata": {},
     "output_type": "execute_result"
    }
   ],
   "source": [
    "df_g = fe.bronze_to_gold(df_b) #Gold data (Ready to be processed)\n",
    "features_g = df_g.columns.drop(target) #Gold features\n",
    "df_g.head()"
   ]
  },
  {
   "cell_type": "markdown",
   "metadata": {},
   "source": [
    "## Specific BoxPlots\n",
    "\n",
    "It can be interesting to display the boxplots of some promising features, to check if they are of use to separate the various classes. Here the three most important features found in the analysis are displayed, and they are clearly able to differentiate the flow regimes by some degree. Note that for display purposes, the logarithm of the velocities is taken (the models used for the analysis are however unaffected by the scale of the features used)"
   ]
  },
  {
   "cell_type": "code",
   "execution_count": 11,
   "metadata": {},
   "outputs": [],
   "source": [
    "log_q = [q for q in df_g[features_g].columns if df_g[q].min()>=0]\n",
    "df_log = pd.DataFrame(df_b[target], columns=[target])\n",
    "for q in log_q:\n",
    "    df_log[f'log({q})'] = np.log10(df_g[q])"
   ]
  },
  {
   "cell_type": "code",
   "execution_count": 12,
   "metadata": {},
   "outputs": [
    {
     "data": {
      "image/png": "[encoded data removed]",
      "text/plain": [
       "<Figure size 1400x600 with 3 Axes>"
      ]
     },
     "metadata": {},
     "output_type": "display_data"
    }
   ],
   "source": [
    "df_ALL = pd.concat([df_log, df_g, df_b], axis=1)\n",
    "df_ALL = df_ALL.loc[:,~df_ALL.columns.duplicated()]\n",
    "\n",
    "to_plot_features = [\"log(FrG)\", \"log(FrL)\", \"Ang\"]\n",
    "\n",
    "fig, axes = plt.subplots(nrows=1, ncols=len(to_plot_features), figsize=(14, 6)) \n",
    "for quantity, i in zip(to_plot_features, range(len(to_plot_features))):\n",
    "    df_ALL[[quantity, target]].boxplot(by=target, \n",
    "                                           showfliers=False, \n",
    "                                           ax=axes[i])\n",
    "    axes[i].set_xlabel(\"Flow Pattern\")\n",
    "    fig.suptitle('')\n",
    "\n",
    "axes[0].set_title(r\"$log(Fr_{G})$\")\n",
    "axes[1].set_title(r\"$log(Fr_{L})$\")\n",
    "axes[2].set_title(r\"$\\theta$\")\n",
    "\n",
    "fig.savefig(f'plots/boxplots/specific_features.png', dpi=fig.dpi, bbox_inches='tight')\n",
    "plt.show()"
   ]
  },
  {
   "cell_type": "markdown",
   "metadata": {},
   "source": [
    "## Feature Correlation\n",
    "\n",
    "We can check the quality of the generated features by mean of correlation. It is evident that the proposed features are mostly uncorrelated, and offer different types of signals for our model."
   ]
  },
  {
   "cell_type": "code",
   "execution_count": 13,
   "metadata": {},
   "outputs": [
    {
     "data": {
      "image/png": "[encoded data removed]",
      "text/plain": [
       "<Figure size 1000x800 with 2 Axes>"
      ]
     },
     "metadata": {},
     "output_type": "display_data"
    }
   ],
   "source": [
    "df_corr = df_g.drop(columns=target)\n",
    "df_corr.columns = [r'$\\theta$', r'$Re_{L}$', r'$Re_{G}$', \n",
    "                   r'$Fr_{L}$', r'$Fr_{G}$', r'$N_{L}$', \n",
    "                   r'$X_{LM}$', r'$X_{LM}^2$', r'$Y$', \n",
    "                   r'$We$', r'$Eo$', r'$\\alpha_{L}$', \n",
    "                   r'$K_{G}$', r'$T_{TB}$']\n",
    "\n",
    "fig = plt.figure(figsize=(10, 8), dpi=100)\n",
    "plt.matshow((df_corr).corr(), fignum=fig.number, cmap='seismic')\n",
    "\n",
    "plt.xticks(range(df_corr.shape[1]), df_corr.columns, fontsize=14, rotation=45)\n",
    "plt.yticks(range(df_corr.shape[1]), df_corr.columns, fontsize=14)\n",
    "\n",
    "cb = plt.colorbar()\n",
    "cb.ax.tick_params(labelsize=14)\n",
    "\n",
    "fig.savefig(f'plots/others/correlation_matrix.png', dpi=fig.dpi, bbox_inches='tight')\n",
    "plt.show()"
   ]
  },
  {
   "cell_type": "code",
   "execution_count": 14,
   "metadata": {},
   "outputs": [],
   "source": [
    "df_b.to_csv('data/Train_bronze.csv', index=False)\n",
    "df_b_test.to_csv('data/Test_bronze.csv', index=False)\n",
    "df_g.to_csv('data/Train_gold.csv', index=False)"
   ]
  },
  {
   "cell_type": "code",
   "execution_count": null,
   "metadata": {},
   "outputs": [],
   "source": []
  }
 ],
 "metadata": {
  "kernelspec": {
   "display_name": "Python 3",
   "language": "python",
   "name": "python3"
  },
  "language_info": {
   "codemirror_mode": {
    "name": "ipython",
    "version": 3
   },
   "file_extension": ".py",
   "mimetype": "text/x-python",
   "name": "python",
   "nbconvert_exporter": "python",
   "pygments_lexer": "ipython3",
   "version": "3.8.11"
  }
 },
 "nbformat": 4,
 "nbformat_minor": 4
}
