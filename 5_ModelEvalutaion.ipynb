{
 "cells": [
  {
   "cell_type": "markdown",
   "metadata": {},
   "source": [
    "# Model Evaulation: Multiphase Maps and Extra Data\n",
    "\n",
    "This notebook is dedicated to produce the various multiphase maps and to perform some analysis about the extra dataset employed for model evaulation"
   ]
  },
  {
   "cell_type": "code",
   "execution_count": null,
   "metadata": {},
   "outputs": [],
   "source": [
    "#For development\n",
    "#Reload the library when a change is detected in one of the imported libraries\n",
    "%load_ext autoreload \n",
    "%autoreload 2 "
   ]
  },
  {
   "cell_type": "code",
   "execution_count": null,
   "metadata": {},
   "outputs": [],
   "source": [
    "import os\n",
    "import numpy as np\n",
    "import pandas as pd\n",
    "\n",
    "from script import utils, map_helper\n",
    "\n",
    "from plotly.subplots import make_subplots\n",
    "import plotly.graph_objects as go\n",
    "import plotly.express as px"
   ]
  },
  {
   "cell_type": "code",
   "execution_count": null,
   "metadata": {},
   "outputs": [],
   "source": [
    "kept_columns = ['Ang', 'ReL', 'FrL', 'FrG', 'X_LM', 'Eo']\n",
    "model = utils.load_model('./results/Models', model_type=\"LightGBM\")"
   ]
  },
  {
   "cell_type": "code",
   "execution_count": null,
   "metadata": {},
   "outputs": [],
   "source": [
    "map_helper.plot_madhane_map(model, kept_columns, mesh_size=400)"
   ]
  },
  {
   "cell_type": "code",
   "execution_count": null,
   "metadata": {},
   "outputs": [],
   "source": [
    "map_helper.plot_2d(model, kept_columns, 'Ang', np.array([90, 80, 30, 1, -1, -30, -80, -90]), mesh_size=250)"
   ]
  },
  {
   "cell_type": "code",
   "execution_count": null,
   "metadata": {},
   "outputs": [],
   "source": [
    "map_helper.plot_3d(model, kept_columns, 'Ang', np.linspace(-90, 90, num=31), display='Flow_label', mesh_size=100)"
   ]
  },
  {
   "cell_type": "code",
   "execution_count": null,
   "metadata": {},
   "outputs": [],
   "source": [
    "df_test = pd.read_csv('Data/Test_bronze.csv')\n",
    "df_test = df_test[(df_test['Author'].str.contains('Ovad')) & (df_test['ID']==0.051) & (df_test['Ang']==0)]"
   ]
  },
  {
   "cell_type": "code",
   "execution_count": null,
   "metadata": {},
   "outputs": [],
   "source": [
    "assert(df_test.shape[0]>0)\n",
    "map_helper.test_set_comparison(model, kept_columns, df_test, display=\"Flow_label\")"
   ]
  },
  {
   "cell_type": "markdown",
   "metadata": {},
   "source": [
    "## Unseen Working Configurations:\n",
    "\n",
    "We can now focus on evaulating the model on unseen working configurations, different from the ones of train"
   ]
  },
  {
   "cell_type": "code",
   "execution_count": null,
   "metadata": {
    "scrolled": true
   },
   "outputs": [],
   "source": [
    "df_secret_b = pd.read_csv('Data/Secret/Test_secret.csv')"
   ]
  },
  {
   "cell_type": "raw",
   "metadata": {},
   "source": [
    "map_helper.write_map_images(df_map, model, kept_columns)"
   ]
  },
  {
   "cell_type": "markdown",
   "metadata": {},
   "source": [
    "### Accuracy Score:\n",
    "\n",
    "The next step is to actually provide a metric to summarize the results agains unseen working configurations"
   ]
  },
  {
   "cell_type": "code",
   "execution_count": null,
   "metadata": {},
   "outputs": [],
   "source": [
    "df_secret_g = utils.bronze_to_gold(df_secret_b, kept_columns=kept_columns+[\"Flow_label\"])\n",
    "\n",
    "X_secret = df_secret_g.iloc[:,:-1].values\n",
    "y_secret = df_secret_g.iloc[:,[-1]].values.ravel()"
   ]
  },
  {
   "cell_type": "code",
   "execution_count": null,
   "metadata": {},
   "outputs": [],
   "source": [
    "y_pred = model.predict(X_secret)\n",
    "y_pred = np.where(y_pred==5, 1, y_pred)\n",
    "y_pred = np.where(y_pred==4, 3, y_pred)\n",
    "\n",
    "utils.print_performance(y_secret, y_pred)"
   ]
  },
  {
   "cell_type": "code",
   "execution_count": null,
   "metadata": {},
   "outputs": [],
   "source": [
    "mi = map_helper.bar_plot_studies(df_secret_b, model, kept_columns, n_class=4)"
   ]
  },
  {
   "cell_type": "markdown",
   "metadata": {},
   "source": [
    "### Probability Threshold\n",
    "\n",
    "We can also study the effect of increasing the probability threshold on the overall accuracy"
   ]
  },
  {
   "cell_type": "code",
   "execution_count": null,
   "metadata": {},
   "outputs": [],
   "source": [
    "df_predicted = map_helper.probability_threshold(model, X_secret, y_secret)"
   ]
  },
  {
   "cell_type": "markdown",
   "metadata": {},
   "source": [
    "### Top 2 Accuracy:\n",
    "\n",
    "It may interesting to also look at the top 2 accuracy (in order to exclude a particular regime)"
   ]
  },
  {
   "cell_type": "code",
   "execution_count": null,
   "metadata": {},
   "outputs": [],
   "source": [
    "map_helper.get_top_two(df_predicted)"
   ]
  },
  {
   "cell_type": "code",
   "execution_count": null,
   "metadata": {},
   "outputs": [],
   "source": []
  }
 ],
 "metadata": {
  "kernelspec": {
   "display_name": "Python 3",
   "language": "python",
   "name": "python3"
  },
  "language_info": {
   "codemirror_mode": {
    "name": "ipython",
    "version": 3
   },
   "file_extension": ".py",
   "mimetype": "text/x-python",
   "name": "python",
   "nbconvert_exporter": "python",
   "pygments_lexer": "ipython3",
   "version": "3.8.8"
  }
 },
 "nbformat": 4,
 "nbformat_minor": 4
}
